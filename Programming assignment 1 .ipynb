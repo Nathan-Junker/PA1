{
 "cells": [
  {
   "cell_type": "code",
   "execution_count": 6,
   "id": "2617da13",
   "metadata": {
    "scrolled": true
   },
   "outputs": [
    {
     "name": "stdout",
     "output_type": "stream",
     "text": [
      "Enter a floating point number: 32.0111\n",
      "enter a integer: 16\n",
      "The sum is: 48.0111\n",
      "The difference is: 16.0111\n",
      "The products is: 512.1776\n",
      "The quotient is: 2.00069375\n",
      "The type for this result is <class 'float'>\n"
     ]
    }
   ],
   "source": [
    "num1=float(input(\"Enter a floating point number: \"))\n",
    "num2=int(input(\"enter a integer: \"))\n",
    "print(\"The sum is:\", num1+num2)\n",
    "print(\"The difference is:\", num1-num2)\n",
    "print('The products is:', num1*num2)\n",
    "print('The quotient is:', num1/num2)\n",
    "print(\"The type for this result is\", type(num1))\n"
   ]
  },
  {
   "cell_type": "markdown",
   "id": "612e700a",
   "metadata": {},
   "source": [
    "# Programming assignment 1\n",
    "## Nathan Junker\n",
    "### version 1\n",
    "### First assesment of what we've learned in class in jupyter notebook. Due 9/7/22"
   ]
  }
 ],
 "metadata": {
  "kernelspec": {
   "display_name": "Python 3 (ipykernel)",
   "language": "python",
   "name": "python3"
  },
  "language_info": {
   "codemirror_mode": {
    "name": "ipython",
    "version": 3
   },
   "file_extension": ".py",
   "mimetype": "text/x-python",
   "name": "python",
   "nbconvert_exporter": "python",
   "pygments_lexer": "ipython3",
   "version": "3.9.12"
  }
 },
 "nbformat": 4,
 "nbformat_minor": 5
}
